{
 "cells": [
  {
   "cell_type": "markdown",
   "metadata": {},
   "source": [
    "# Calculation and Visualization of Effective Potentials\n",
    "\n",
    "- Based on pseudopotential calculations first demonstrated by Hans Georg Dehmelt\n",
    "- Good overview by Dieter Gerlich in Advances in Chemical Physics (1992) Vol. 82, Chapter 1 (ISBN:0470141921)"
   ]
  },
  {
   "cell_type": "markdown",
   "metadata": {},
   "source": [
    "### Outline of SIMION Effective Potentials determination:\n",
    "\n",
    "1. Take an instance of a potential array in graphical units (aka a field matrix) exported from SLTools\n",
    "2. Take the x,y,z field components and divide each by total mm in each dimension: ex = (ex / pa.dx_mm) to get V/mm\n",
    "3. Take the root of the sum of the squares for each dimension\n",
    "4. Divide this value by the scale dfined in the SIMION pa instance to get V/m\n",
    "\n",
    "5. These values (array \"E\") are used in the psuedopoential equation for a given point in graphical units\n",
    "6. E is multiplied by 1000 to go back to V/mm\n",
    "7. pseudopoential at given point is (q/(4mΩ^2))*E^2"
   ]
  },
  {
   "cell_type": "code",
   "execution_count": null,
   "metadata": {
    "vscode": {
     "languageId": "plaintext"
    }
   },
   "outputs": [],
   "source": [
    "import numpy as np\n",
    "import pandas as pd\n",
    "import matplotlib.pyplot as plt\n",
    "from matplotlib import colors\n",
    "import sys, os\n",
    "import time"
   ]
  },
  {
   "cell_type": "code",
   "execution_count": null,
   "metadata": {
    "vscode": {
     "languageId": "plaintext"
    }
   },
   "outputs": [],
   "source": [
    "## Simplified Input Units\n",
    "\n",
    "Da = 500                                # [Daltons]\n",
    "z = 1                                   # [charge]\n",
    "freq = 1 * (10**6)                      # [Hz]\n",
    "scale = 0.05                            # [mm/gu] SIMION scaling factor"
   ]
  },
  {
   "cell_type": "markdown",
   "metadata": {
    "vscode": {
     "languageId": "plaintext"
    }
   },
   "source": [
    "### On Scaling Field Voltages\n",
    "\n",
    "field units are field strength, conventionally V/cm. When calculating pseudopotentials, the field strengths need to be in V/m. SIMION exports them in volts per grid unit (V/gu), which can be converted to V/mm by multiplying by gu/mm (inverse of scale, so divide by the scale). This should then be multiplied by 1000 mm / m to get V / mm before employing the pseudopotential equation.\n",
    "\n",
    "Note:\n",
    "- From SIMION Revision NOTES: \"8.1.0-TEST14 - mm_per_gu was renamed to scale.\"\n",
    "- SIMION lua extracts scale from pa workbook so it is likely this 0.05 value we see referenced\n",
    "- They also extract dx_mm, dy_mm, dz_mm. These values also seem to be 0.05 gu/mm and can be found in the file header. But they use separate instances of the variable, could be an imperfect coding example or maybe they had two different values at some point\n",
    "- interestingly, both methods (PNNL and SIMION) divide by the scale twice. The PNNL matlab divides the sum of squares by scale^2 explicitly, (and neglects to take the root of that sum). \n",
    "- The SIMION lua divides by the scale in another variable name, (dx_mm, or mm per grid unit = 0.05) when summing the vector components, and again by the term scale, which seems to represent mm per grid unit as well. It seems it is simply replicated for each dimension xyz.\n",
    "- The SIMION lua converts mm to m outside the field function so we do the same here"
   ]
  },
  {
   "cell_type": "code",
   "execution_count": null,
   "metadata": {
    "vscode": {
     "languageId": "plaintext"
    }
   },
   "outputs": [],
   "source": [
    "## main functions\n",
    "def find_row(df, coords):\n",
    "    '''find a row given coords in potential df'''\n",
    "    x,y,z = coords[0], coords[1], coords[2]\n",
    "    row = df.loc[(df[\"x\"] == x) & (df[\"y\"] == y) & (df[\"z\"] == z)]\n",
    "    return row\n",
    "\n",
    "def field(pa_df, scale, coords):\n",
    "    '''\n",
    "    get magnitude of field (V/mm) at point (x,y,z) in grid units\n",
    "    copied largely from SIMON examples / pseudopotential / trap.lua\n",
    "    '''\n",
    "    # get field values for coordindates\n",
    "    entry = find_row(pa_df, coords) # go to row for coords of interest\n",
    "    ex, ey, ez = entry[\"rfe_x\"], entry[\"rfe_y\"], entry[\"rfe_z\"] # extract V / gu\n",
    "    ex, ey, ez = ex / scale , ey / scale , ez / scale # V / mm\n",
    "    \n",
    "    # square-root sum of squares for each\n",
    "    E = np.sqrt(ex**2 + ey**2 + ez**2)\n",
    "    \n",
    "    # divide that answer by scale\n",
    "#     E = E / scale\n",
    "    # this is one question I have about the lua code - they divide by dx-mm = scale = 0.05\n",
    "    # but then divide the rooted sum of squares by the scale again\n",
    "    \n",
    "    # anyway supposedly here we return field strength values in V/mm, not far from standard\n",
    "    return E\n",
    "\n",
    "def calculate_pseudopotential(pa_df, coords, mass, charge, frequency):\n",
    "    '''\n",
    "    get pseudopotential values for new 3d matrix\n",
    "    also copied from SIMON examples / pseudopotential / trap.lua\n",
    "    '''\n",
    "    q = charge * (1.602 * (10**-19))        # convert ionic charge to elementary charges\n",
    "    m = mass * (0.001 / (6.023 * (10**23))) # convert mass from Da to kg\n",
    "    Ω = frequency * 2 * np.pi               # convert Rf freq Ω to angular frequency units (rad/s)\n",
    "    k = q / (4 * m * Ω**2)                  # get constant k (for m, Ω, q)\n",
    "    \n",
    "    # get field value at point xyz from field()\n",
    "    E = field(pa_df, scale, coords) * 1000  # V/mm * 1000 mm/m\n",
    "    pseudo = k * E**2\n",
    "    \n",
    "    return pseudo\n",
    "\n",
    "def yz_slicer(pa_df, x_point):\n",
    "    '''cuts a y/z slice (face view) at given X (usually 0)'''\n",
    "    yz_slice = pa_df.loc[pa_df[\"x\"]==x_point]\n",
    "    return yz_slice.reset_index(drop=True)\n",
    "\n",
    "def xz_slicer(pa_df, y_point):\n",
    "    '''cuts a y/z slice (face view) at given X (usually 0)'''\n",
    "    xz_slice = pa_df.loc[pa_df[\"y\"]==y_point]\n",
    "    return xz_slice.reset_index(drop=True)\n",
    "\n",
    "def add_pseudo_column(pa_df, mass, charge, freq, retBool=True):\n",
    "    '''\n",
    "    For all rows in supplied df, calculate pseudopotential\n",
    "    pseudopotential is added to pa_df as a column and returned if retBool=True\n",
    "    '''\n",
    "    pseudo_col = np.zeros(pa_df[\"x\"].size) # create empty\n",
    "    for n, row in pa_df.iterrows():\n",
    "        coords = (int(row[0]), int(row[1]), int(row[2])) # gx, gy, gz\n",
    "        pseudo = calculate_pseudopotential(pa_df, coords, mass, charge, freq) # use built method\n",
    "        pseudo_col[n] = pseudo # fill empty array\n",
    "    if retBool:\n",
    "        return pseudo_col"
   ]
  },
  {
   "cell_type": "code",
   "execution_count": null,
   "metadata": {
    "vscode": {
     "languageId": "plaintext"
    }
   },
   "outputs": [],
   "source": [
    "rf_yz_slc = yz_slicer(rf_df, 0)\n",
    "tw_yz_slc = yz_slicer(tw_df, 0)\n",
    "g_yz_slc = yz_slicer(g_df, 0)\n",
    "\n",
    "pseudo_column = add_pseudo_column(rf_yz_slc, Da, z, freq)\n",
    "\n",
    "rf_yz_slc[\"pseudo\"] = pseudo_column"
   ]
  },
  {
   "cell_type": "code",
   "execution_count": null,
   "metadata": {
    "vscode": {
     "languageId": "plaintext"
    }
   },
   "outputs": [],
   "source": [
    "def yz_to_mtx(yz_slice, data_col):\n",
    "    slice_mtx = np.zeros((max(yz_slice[\"y\"])+1, max(yz_slice[\"z\"])+1))\n",
    "    for n, row in yz_slice.iterrows():\n",
    "        x, y, z = int(row['x']), int(row['y']), int(row['z'])\n",
    "        potential = float(row[data_col])\n",
    "        slice_mtx[y, z] = potential\n",
    "    return slice_mtx\n",
    "\n",
    "def xz_to_mtx(xz_slice, data_col):\n",
    "    slice_mtx = np.zeros((max(xz_slice[\"x\"])+1, max(xz_slice[\"z\"])+1))\n",
    "    for n, row in xz_slice.iterrows():\n",
    "        x, y, z = int(row['x']), int(row['y']), int(row['z'])\n",
    "        potential = float(row[data_col])\n",
    "        slice_mtx[x, z] = potential\n",
    "    return slice_mtx"
   ]
  }
 ],
 "metadata": {
  "language_info": {
   "name": "python"
  }
 },
 "nbformat": 4,
 "nbformat_minor": 2
}
